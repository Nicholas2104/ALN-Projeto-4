{
 "cells": [
  {
   "cell_type": "markdown",
   "id": "6cfca9e1",
   "metadata": {},
   "source": [
    "**Instruções:**  \n",
    "\n",
    "- Justifique seu raciocínio e escreva respostas completas. Os resultados de questões anteriores podem ser usados nas questões seguintes. \n",
    "\n",
    "- Explique seu código e comente os gráficos: um gráfico sem referência no texto está “perdido”."
   ]
  }
 ],
 "metadata": {
  "language_info": {
   "name": "python"
  }
 },
 "nbformat": 4,
 "nbformat_minor": 5
}
